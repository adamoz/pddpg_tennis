{
 "cells": [
  {
   "cell_type": "markdown",
   "metadata": {},
   "source": [
    "# Report\n",
    "---\n",
    "\n",
    "This report contains description of basic experimental setup with conclusions and proposals for next steps. All experiments included into the repo passed success criteria. \n",
    "Main sections: \n",
    "   \n",
    " **1) Experiment overiew** - Description of method used to train agent.  \n",
    " **2) Experiment metadata** - Introduction to experiments metadata and its basic usage.    \n",
    " **3) Evaluation of model** - Showcase of model usage   \n",
    " **4) Evaluation of results** - Some detailed plots and measurements.   \n",
    " **5) Next steps**  "
   ]
  },
  {
   "cell_type": "code",
   "execution_count": 15,
   "metadata": {},
   "outputs": [],
   "source": [
    "%load_ext autoreload\n",
    "%autoreload 2\n",
    "%matplotlib inline"
   ]
  },
  {
   "cell_type": "code",
   "execution_count": 2,
   "metadata": {},
   "outputs": [],
   "source": [
    "import matplotlib.pylab as plt\n",
    "import seaborn as sns\n",
    "import pandas as pd\n",
    "import logging\n",
    "import numpy as np\n",
    "import pickle\n",
    "import time\n",
    "logging.basicConfig(level=logging.INFO)\n",
    "logger = logging.getLogger()\n",
    "logger.setLevel(logging.DEBUG)"
   ]
  },
  {
   "cell_type": "code",
   "execution_count": 3,
   "metadata": {},
   "outputs": [],
   "source": [
    "import torch\n",
    "from pddpg_tennis.environment import UnityEnvironmentWrapper\n",
    "from pddpg_tennis.replay_buffer import ReplayBuffer\n",
    "from pddpg_tennis.agent import Agent\n",
    "from pddpg_tennis.training import pddpg_training"
   ]
  },
  {
   "cell_type": "code",
   "execution_count": 4,
   "metadata": {},
   "outputs": [],
   "source": [
    "def get_avg_scores(scores, n_samples):\n",
    "    cs = np.cumsum(scores)\n",
    "    diff = cs[n_samples:] - cs[:-n_samples]\n",
    "    avg = diff / n_samples\n",
    "    return avg\n",
    "    \n",
    "def get_best_avg_score(scores, n_samples):\n",
    "    avg = get_avg_scores(scores, n_samples)\n",
    "    idxs = np.argsort(avg)[::-1][:3]\n",
    "    avg_subset = avg[idxs]\n",
    "    \n",
    "    return idxs + n_samples, avg_subset\n",
    "\n",
    "def get_occurance(scores, n_samples, value):\n",
    "    avg = get_avg_scores(scores, n_samples)\n",
    "    return np.where(avg >= value)[0][0] + n_samples\n"
   ]
  },
  {
   "cell_type": "markdown",
   "metadata": {},
   "source": [
    "## Experiment overview"
   ]
  },
  {
   "cell_type": "markdown",
   "metadata": {},
   "source": [
    "**Intro**   \n",
    "Main goal in tennis environment is to keep ball in the game as long as possible. So it's cooperative game, where in each state, each agent has it's own state and communicate to environment with it's own set of actions.\n",
    "\n",
    "To solve tennis environment we used alternative of multiagent actor critic method based on ddpg [[1 Section 4.1]](https://papers.nips.cc/paper/7217-multi-agent-actor-critic-for-mixed-cooperative-competitive-environments.pdf).\n",
    "\n",
    "**Agent**  \n",
    "We use one shared critic and 2 actors. Each actor manipulates with one tennis racket. Critic evaluates state of the game based on actions and states of both 2 actors (details how we concatenate states and actions can be found in the code). This leads to rich feedback on real state of the game. On contrary, each actor has it's own set of trainable parameters which are not shared and as input, each actor has it's own state information.\n",
    "\n",
    "Although that architecture represents one end to end system built of 2 actors and one critic on top, key fact is that we awlays train only one of the actors using single batch while the second actor is fixed. With following batch situation flips. This helps to develop stable diversed strategy fast.\n",
    "\n",
    "To address exploration-exploitation problem, we generate random noise with Ornstein-Uhlenbeck process which we mix together with actions from actor (original idea was used in Udacity [ddpg bidepadl environmnet task](https://github.com/udacity/deep-reinforcement-learning/tree/master/ddpg-bipedal))\n",
    "\n",
    "**Parameter details**    \n",
    "Both actor and critic are feed forward neural networks. Actor has 3 layers with relu activations, output has action space size. Critic has also 3 layers of feedforward network, input to 1st layer are concatenated states of both actor state vectors, action vector (created again by concatenation of actions from critics) is concatenated to 2nd layer result.\n",
    "  \n",
    "  Params\n",
    "    * state_size (24): dimension of each state\n",
    "    * action_size (2): dimension of each action\n",
    "    * buffer_size (1e6): Replay buffer size\n",
    "    * batch_size (128): Size of sampled batches from replay buffer\n",
    "    * lr_actor (1e-4): Learning rate\n",
    "    * lr_critic (13e-4): Learning rate\n",
    "    * gamma (0.99): Reward discount\n",
    "    * tau (1e-2): Soft update of target network parameters\n"
   ]
  },
  {
   "cell_type": "markdown",
   "metadata": {},
   "source": [
    "## Experiment metadata"
   ]
  },
  {
   "cell_type": "markdown",
   "metadata": {},
   "source": [
    "Experiment in repo has it's own metadata file with details of experiemnt and of course separate pytorch weights of trained agent (separatelly for actor and critic). Lets have a look at ```../experiments/basic``` which contains results for basic parallel ddpg setup which we stopped immediately after reaching convergence criteria"
   ]
  },
  {
   "cell_type": "code",
   "execution_count": 8,
   "metadata": {},
   "outputs": [],
   "source": [
    "meta = pickle.load(open('../experiments/basic/meta.pickle', 'rb'))"
   ]
  },
  {
   "cell_type": "code",
   "execution_count": 9,
   "metadata": {},
   "outputs": [
    {
     "data": {
      "text/plain": [
       "'Agent(state_size=24, action_size=2, device=\"cuda\")'"
      ]
     },
     "execution_count": 9,
     "metadata": {},
     "output_type": "execute_result"
    }
   ],
   "source": [
    "# repr string for agent initialization\n",
    "meta['agent']"
   ]
  },
  {
   "cell_type": "code",
   "execution_count": 12,
   "metadata": {},
   "outputs": [
    {
     "data": {
      "text/plain": [
       "[1.4000000208616257,\n",
       " 0.10000000149011612,\n",
       " 0.20000000298023224,\n",
       " 0.70000001043081284,\n",
       " 1.2000000178813934,\n",
       " 0.20000000298023224,\n",
       " 0.5000000074505806,\n",
       " 1.8000000268220901,\n",
       " 0.20000000298023224,\n",
       " 1.3000000193715096]"
      ]
     },
     "execution_count": 12,
     "metadata": {},
     "output_type": "execute_result"
    }
   ],
   "source": [
    "# last 10 result scores during training\n",
    "meta['scores'][-10:]"
   ]
  },
  {
   "cell_type": "markdown",
   "metadata": {},
   "source": [
    "## Evaluation of model"
   ]
  },
  {
   "cell_type": "code",
   "execution_count": null,
   "metadata": {},
   "outputs": [],
   "source": [
    "env = UnityEnvironmentWrapper(env_binary='../bin/tennis/Tennis.x86_64', train_mode=False)"
   ]
  },
  {
   "cell_type": "code",
   "execution_count": null,
   "metadata": {},
   "outputs": [],
   "source": [
    "agent = Agent(state_size=env.state_size, action_size=env.action_size, device='cuda')"
   ]
  },
  {
   "cell_type": "code",
   "execution_count": null,
   "metadata": {},
   "outputs": [],
   "source": [
    "agent.load('../experiments/basic/model')"
   ]
  },
  {
   "cell_type": "code",
   "execution_count": null,
   "metadata": {},
   "outputs": [],
   "source": [
    "# Evauation of chosen model with reward evolution\n",
    "states = env.reset()\n",
    "agent.reset()\n",
    "score = np.zeros([env.num_agents])\n",
    "for step in range(1000):\n",
    "    actions = agent.act(states)\n",
    "    next_states, rewards, dones = env.step(actions)\n",
    "    states = next_states\n",
    "    score += rewards\n",
    "    time.sleep(0.05)\n",
    "    if np.any(dones):\n",
    "        break\n",
    "print(f'Final score {np.max(score, axis=0)}')"
   ]
  },
  {
   "cell_type": "code",
   "execution_count": null,
   "metadata": {},
   "outputs": [],
   "source": [
    "env.close()"
   ]
  },
  {
   "cell_type": "markdown",
   "metadata": {},
   "source": [
    "## Evaluation of results\n",
    "We have run basic mutiagent parallel ddpg setup. Plot you will see represetns progress over binned scores during training. Line represetns gourp of scores in given bin with its variance."
   ]
  },
  {
   "cell_type": "code",
   "execution_count": 13,
   "metadata": {},
   "outputs": [],
   "source": [
    "meta_basic = pickle.load(open('../experiments/basic/meta.pickle', 'rb'))\n",
    "data_basic = pd.DataFrame({'scores': meta_basic['scores'], 'iterations': range(len(meta_basic['scores']))})"
   ]
  },
  {
   "cell_type": "code",
   "execution_count": 16,
   "metadata": {},
   "outputs": [
    {
     "data": {
      "text/plain": [
       "<matplotlib.legend.Legend at 0x7f0cb1f98d68>"
      ]
     },
     "execution_count": 16,
     "metadata": {},
     "output_type": "execute_result"
    },
    {
     "data": {
      "image/png": "[encoded data removed]",
      "text/plain": [
       "<matplotlib.figure.Figure at 0x7f0cb1f98630>"
      ]
     },
     "metadata": {},
     "output_type": "display_data"
    }
   ],
   "source": [
    "plt.figure(figsize=(15, 15))\n",
    "ax = plt.gca()\n",
    "sns.regplot(x='iterations', y='scores', data=data_basic, ax=ax, order=2, x_bins=10, line_kws={'alpha':0.1}, scatter_kws={'alpha':0.1}, color='orange', label='basic network')\n",
    "plt.xlim(0, 550)\n",
    "plt.legend()"
   ]
  },
  {
   "cell_type": "code",
   "execution_count": 17,
   "metadata": {},
   "outputs": [
    {
     "data": {
      "text/plain": [
       "468"
      ]
     },
     "execution_count": 17,
     "metadata": {},
     "output_type": "execute_result"
    }
   ],
   "source": [
    "# iteration when we for the first time reached avg score for 100 consecutive scores >=0.5\n",
    "get_occurance(meta_basic['scores'], n_samples=100, value=0.5)"
   ]
  },
  {
   "cell_type": "code",
   "execution_count": 18,
   "metadata": {},
   "outputs": [
    {
     "data": {
      "text/plain": [
       "Text(0.5,0.98,'Plot of raw scores got from each single iteration')"
      ]
     },
     "execution_count": 18,
     "metadata": {},
     "output_type": "execute_result"
    },
    {
     "data": {
      "image/png": "[encoded data removed]",
      "text/plain": [
       "<matplotlib.figure.Figure at 0x7f0cb1aa82b0>"
      ]
     },
     "metadata": {},
     "output_type": "display_data"
    }
   ],
   "source": [
    "plt.figure(figsize=(10,10))\n",
    "ax = plt.gca()\n",
    "sns.scatterplot(x='iterations', y='scores', data=data_basic, ax=ax)\n",
    "plt.suptitle('Plot of raw scores got from each single iteration')"
   ]
  },
  {
   "cell_type": "markdown",
   "metadata": {},
   "source": [
    "We can see that we reached avg score 0.5 over 100 consecutive measurements on 468."
   ]
  },
  {
   "cell_type": "markdown",
   "metadata": {},
   "source": [
    "## Next steps"
   ]
  },
  {
   "cell_type": "markdown",
   "metadata": {},
   "source": [
    " - experiment with architectures of actor and critic\n",
    " - tune up all hyperparameters\n",
    " - tune up exploration noise"
   ]
  }
 ],
 "metadata": {
  "kernelspec": {
   "display_name": "Python 3",
   "language": "python",
   "name": "python3"
  },
  "language_info": {
   "codemirror_mode": {
    "name": "ipython",
    "version": 3
   },
   "file_extension": ".py",
   "mimetype": "text/x-python",
   "name": "python",
   "nbconvert_exporter": "python",
   "pygments_lexer": "ipython3",
   "version": "3.6.3"
  }
 },
 "nbformat": 4,
 "nbformat_minor": 2
}
